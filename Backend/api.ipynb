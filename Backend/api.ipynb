{
 "cells": [
  {
   "cell_type": "code",
   "execution_count": 1,
   "metadata": {},
   "outputs": [],
   "source": [
    "import requests\n",
    "import pandas as pd "
   ]
  },
  {
   "cell_type": "code",
   "execution_count": 36,
   "metadata": {},
   "outputs": [],
   "source": [
    "url = \"https://api.coinmarketcap.com/data-api/v3/cryptocurrency/listing?start=1&limit=100&sortBy=market_cap&sortType=desc&convert=USD,BTC,ETH&cryptoType=all&tagType=all&audited=false&aux=ath,atl,high24h,low24h,num_market_pairs,cmc_rank,date_added,max_supply,circulating_supply,total_supply,volume_7d,volume_30d,self_reported_circulating_supply,self_reported_market_cap\" \n",
    " \n",
    "response = requests.request(\"GET\", url) \n",
    "data = response.json()\n",
    "res = [] \n",
    "for p in data[\"data\"][\"cryptoCurrencyList\"]: \n",
    "\tres.append(p)\n",
    "\n",
    "df = pd.json_normalize(res) \n",
    "# df.to_csv(\"result.csv\")"
   ]
  },
  {
   "cell_type": "code",
   "execution_count": 37,
   "metadata": {},
   "outputs": [
    {
     "data": {
      "text/html": [
       "<div>\n",
       "<style scoped>\n",
       "    .dataframe tbody tr th:only-of-type {\n",
       "        vertical-align: middle;\n",
       "    }\n",
       "\n",
       "    .dataframe tbody tr th {\n",
       "        vertical-align: top;\n",
       "    }\n",
       "\n",
       "    .dataframe thead th {\n",
       "        text-align: right;\n",
       "    }\n",
       "</style>\n",
       "<table border=\"1\" class=\"dataframe\">\n",
       "  <thead>\n",
       "    <tr style=\"text-align: right;\">\n",
       "      <th></th>\n",
       "      <th>name</th>\n",
       "      <th>symbol</th>\n",
       "      <th>cmcRank</th>\n",
       "      <th>ath</th>\n",
       "      <th>atl</th>\n",
       "      <th>high24h</th>\n",
       "      <th>low24h</th>\n",
       "    </tr>\n",
       "  </thead>\n",
       "  <tbody>\n",
       "    <tr>\n",
       "      <th>0</th>\n",
       "      <td>Bitcoin</td>\n",
       "      <td>BTC</td>\n",
       "      <td>1</td>\n",
       "      <td>68789.625939</td>\n",
       "      <td>0.048647</td>\n",
       "      <td>26160.782666</td>\n",
       "      <td>25520.728491</td>\n",
       "    </tr>\n",
       "    <tr>\n",
       "      <th>1</th>\n",
       "      <td>Ethereum</td>\n",
       "      <td>ETH</td>\n",
       "      <td>2</td>\n",
       "      <td>4891.704698</td>\n",
       "      <td>0.420897</td>\n",
       "      <td>1666.567243</td>\n",
       "      <td>1596.384073</td>\n",
       "    </tr>\n",
       "    <tr>\n",
       "      <th>2</th>\n",
       "      <td>Tether USDt</td>\n",
       "      <td>USDT</td>\n",
       "      <td>3</td>\n",
       "      <td>1.215490</td>\n",
       "      <td>0.568314</td>\n",
       "      <td>1.000329</td>\n",
       "      <td>0.999347</td>\n",
       "    </tr>\n",
       "    <tr>\n",
       "      <th>3</th>\n",
       "      <td>BNB</td>\n",
       "      <td>BNB</td>\n",
       "      <td>4</td>\n",
       "      <td>690.931965</td>\n",
       "      <td>0.096109</td>\n",
       "      <td>216.385081</td>\n",
       "      <td>204.399138</td>\n",
       "    </tr>\n",
       "    <tr>\n",
       "      <th>4</th>\n",
       "      <td>XRP</td>\n",
       "      <td>XRP</td>\n",
       "      <td>5</td>\n",
       "      <td>3.841940</td>\n",
       "      <td>0.002802</td>\n",
       "      <td>0.522978</td>\n",
       "      <td>0.506343</td>\n",
       "    </tr>\n",
       "  </tbody>\n",
       "</table>\n",
       "</div>"
      ],
      "text/plain": [
       "          name symbol  cmcRank           ath       atl       high24h  \\\n",
       "0      Bitcoin    BTC        1  68789.625939  0.048647  26160.782666   \n",
       "1     Ethereum    ETH        2   4891.704698  0.420897   1666.567243   \n",
       "2  Tether USDt   USDT        3      1.215490  0.568314      1.000329   \n",
       "3          BNB    BNB        4    690.931965  0.096109    216.385081   \n",
       "4          XRP    XRP        5      3.841940  0.002802      0.522978   \n",
       "\n",
       "         low24h  \n",
       "0  25520.728491  \n",
       "1   1596.384073  \n",
       "2      0.999347  \n",
       "3    204.399138  \n",
       "4      0.506343  "
      ]
     },
     "execution_count": 37,
     "metadata": {},
     "output_type": "execute_result"
    }
   ],
   "source": [
    "df = df[['name','symbol','cmcRank','ath','atl','high24h','low24h']]\n",
    "df.head(5)"
   ]
  },
  {
   "cell_type": "code",
   "execution_count": 26,
   "metadata": {},
   "outputs": [],
   "source": [
    "user = \"Bitcoin\"\n",
    "high24h = df[df[\"name\"]==user][\"high24h\"].values[0]\n",
    "low24h  = df[df[\"name\"]==user][\"low24h\"].values[0]\n",
    "ath = df[df[\"name\"]==user][\"ath\"].values[0]\n",
    "atl = df[df[\"name\"]==user][\"atl\"].values[0]"
   ]
  },
  {
   "cell_type": "code",
   "execution_count": 35,
   "metadata": {},
   "outputs": [],
   "source": [
    "import json\n",
    "sample_data = [\n",
    "    {\"high24h\":high24h},\n",
    "    {\"low24h\":low24h},\n",
    "    {\"ath\":ath},\n",
    "    {\"atl\":atl}\n",
    "]\n",
    "\n",
    "json_filename = \"sample_data.json\"\n",
    "with open(json_filename,'w') as json_file:\n",
    "    json.dump(sample_data,json_file,indent=4)"
   ]
  },
  {
   "cell_type": "code",
   "execution_count": 38,
   "metadata": {},
   "outputs": [],
   "source": [
    "def get_realtime(user):\n",
    "    url = \"https://api.coinmarketcap.com/data-api/v3/cryptocurrency/listing?start=1&limit=100&sortBy=market_cap&sortType=desc&convert=USD,BTC,ETH&cryptoType=all&tagType=all&audited=false&aux=ath,atl,high24h,low24h,num_market_pairs,cmc_rank,date_added,max_supply,circulating_supply,total_supply,volume_7d,volume_30d,self_reported_circulating_supply,self_reported_market_cap\" \n",
    "    response = requests.request(\"GET\", url) \n",
    "    data = response.json()\n",
    "    res = [] \n",
    "    for p in data[\"data\"][\"cryptoCurrencyList\"]: \n",
    "        res.append(p)\n",
    "    df = pd.json_normalize(res)\n",
    "    df = df[['name','symbol','cmcRank','ath','atl','high24h','low24h']]\n",
    "    high24h = df[df[\"name\"]==user][\"high24h\"].values[0]\n",
    "    low24h  = df[df[\"name\"]==user][\"low24h\"].values[0]\n",
    "    ath = df[df[\"name\"]==user][\"ath\"].values[0]\n",
    "    atl = df[df[\"name\"]==user][\"atl\"].values[0]\n",
    "    output = {\"high24h\":high24h,\"low24h\":low24h,\"ath\":ath,\"atl\":atl}\n",
    "    return output\n",
    "    "
   ]
  },
  {
   "cell_type": "code",
   "execution_count": 43,
   "metadata": {},
   "outputs": [
    {
     "name": "stdout",
     "output_type": "stream",
     "text": [
      "{'high24h': 1666.5672425224948, 'low24h': 1596.384073161475, 'ath': 4891.704697551414, 'atl': 0.4208970069885254}\n"
     ]
    }
   ],
   "source": [
    "print(get_realtime(\"Ethereum\"))"
   ]
  }
 ],
 "metadata": {
  "kernelspec": {
   "display_name": "Python 3",
   "language": "python",
   "name": "python3"
  },
  "language_info": {
   "codemirror_mode": {
    "name": "ipython",
    "version": 3
   },
   "file_extension": ".py",
   "mimetype": "text/x-python",
   "name": "python",
   "nbconvert_exporter": "python",
   "pygments_lexer": "ipython3",
   "version": "3.11.3"
  },
  "orig_nbformat": 4
 },
 "nbformat": 4,
 "nbformat_minor": 2
}
