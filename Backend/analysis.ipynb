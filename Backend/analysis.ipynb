{
 "cells": [
  {
   "cell_type": "markdown",
   "metadata": {},
   "source": [
    "Integration of the datasets"
   ]
  },
  {
   "cell_type": "code",
   "execution_count": 1,
   "metadata": {},
   "outputs": [],
   "source": [
    "# import pandas as pd\n",
    "# binance_data = pd.read_csv('crypto_dataset/coin_BinanceCoin.csv')\n",
    "# aave_data = pd.read_csv('crypto_dataset/coin_Aave.csv')\n",
    "# btc_data = pd.read_csv('crypto_dataset/coin_Bitcoin.csv')\n",
    "# cardano_data = pd.read_csv('crypto_dataset/coin_Cardano.csv')\n",
    "# chainlink_data = pd.read_csv('crypto_dataset/coin_ChainLink.csv')\n",
    "# cosmos_data = pd.read_csv('crypto_dataset/coin_Cosmos.csv')\n",
    "# cryptocom_data = pd.read_csv('crypto_dataset/coin_CryptocomCoin.csv')\n",
    "# dogecoin_data = pd.read_csv('crypto_dataset/coin_Dogecoin.csv')\n",
    "# eos_data = pd.read_csv('crypto_dataset/coin_EOS.csv')\n",
    "# eth_data = pd.read_csv('crypto_dataset/coin_Ethereum.csv')\n",
    "# iota_data  =pd.read_csv('crypto_dataset/coin_Iota.csv')\n",
    "# lite_data = pd.read_csv('crypto_dataset/coin_Litecoin.csv')\n",
    "# monero_data = pd.read_csv('crypto_dataset/coin_Monero.csv')\n",
    "# nem_data = pd.read_csv('crypto_dataset/coin_NEM.csv')\n",
    "# polkadot_data = pd.read_csv('crypto_dataset/coin_Polkadot.csv')\n",
    "# solana_data = pd.read_csv('crypto_dataset/coin_Solana.csv')\n",
    "# stellar_data = pd.read_csv('crypto_dataset/coin_Stellar.csv')\n",
    "# tether_data = pd.read_csv('crypto_dataset/coin_Tether.csv')\n",
    "# tron_data = pd.read_csv('crypto_dataset/coin_Tron.csv')\n",
    "# uniswap_data = pd.read_csv('crypto_dataset/coin_Uniswap.csv')\n",
    "# usd_data = pd.read_csv('crypto_dataset/coin_USDCoin.csv')\n",
    "# wrapped_data = pd.read_csv('crypto_dataset/coin_WrappedBitcoin.csv')\n",
    "# xrp_data = pd.read_csv('crypto_dataset/coin_XRP.csv')\n",
    "\n",
    "# combined_data = pd.concat([binance_data,aave_data,btc_data,cardano_data,chainlink_data,cosmos_data,cryptocom_data,dogecoin_data,eos_data,eth_data,iota_data,lite_data,monero_data,nem_data,polkadot_data,solana_data,stellar_data,tether_data,tron_data,uniswap_data,usd_data,wrapped_data,xrp_data],ignore_index=True)\n",
    "# combined_data.sort_values(by='Date',inplace=True)\n",
    "# combined_data.to_csv('combined_data.csv',index=False)"
   ]
  },
  {
   "cell_type": "code",
   "execution_count": 2,
   "metadata": {},
   "outputs": [],
   "source": [
    "import pandas as pd\n",
    "data = pd.read_csv('combined_data.csv')"
   ]
  },
  {
   "cell_type": "code",
   "execution_count": 3,
   "metadata": {},
   "outputs": [
    {
     "data": {
      "text/plain": [
       "(37082, 10)"
      ]
     },
     "execution_count": 3,
     "metadata": {},
     "output_type": "execute_result"
    }
   ],
   "source": [
    "data.shape"
   ]
  },
  {
   "cell_type": "code",
   "execution_count": 4,
   "metadata": {},
   "outputs": [
    {
     "data": {
      "text/html": [
       "<div>\n",
       "<style scoped>\n",
       "    .dataframe tbody tr th:only-of-type {\n",
       "        vertical-align: middle;\n",
       "    }\n",
       "\n",
       "    .dataframe tbody tr th {\n",
       "        vertical-align: top;\n",
       "    }\n",
       "\n",
       "    .dataframe thead th {\n",
       "        text-align: right;\n",
       "    }\n",
       "</style>\n",
       "<table border=\"1\" class=\"dataframe\">\n",
       "  <thead>\n",
       "    <tr style=\"text-align: right;\">\n",
       "      <th></th>\n",
       "      <th>SNo</th>\n",
       "      <th>Name</th>\n",
       "      <th>Symbol</th>\n",
       "      <th>Date</th>\n",
       "      <th>High</th>\n",
       "      <th>Low</th>\n",
       "      <th>Open</th>\n",
       "      <th>Close</th>\n",
       "      <th>Volume</th>\n",
       "      <th>Marketcap</th>\n",
       "    </tr>\n",
       "  </thead>\n",
       "  <tbody>\n",
       "    <tr>\n",
       "      <th>0</th>\n",
       "      <td>1</td>\n",
       "      <td>Bitcoin</td>\n",
       "      <td>BTC</td>\n",
       "      <td>2013-04-29 23:59:59</td>\n",
       "      <td>147.488007</td>\n",
       "      <td>134.000000</td>\n",
       "      <td>134.44400</td>\n",
       "      <td>144.539993</td>\n",
       "      <td>0.0</td>\n",
       "      <td>1.603769e+09</td>\n",
       "    </tr>\n",
       "    <tr>\n",
       "      <th>1</th>\n",
       "      <td>1</td>\n",
       "      <td>Litecoin</td>\n",
       "      <td>LTC</td>\n",
       "      <td>2013-04-29 23:59:59</td>\n",
       "      <td>4.573600</td>\n",
       "      <td>4.225640</td>\n",
       "      <td>4.36676</td>\n",
       "      <td>4.383900</td>\n",
       "      <td>0.0</td>\n",
       "      <td>7.538896e+07</td>\n",
       "    </tr>\n",
       "    <tr>\n",
       "      <th>2</th>\n",
       "      <td>2</td>\n",
       "      <td>Litecoin</td>\n",
       "      <td>LTC</td>\n",
       "      <td>2013-04-30 23:59:59</td>\n",
       "      <td>4.572380</td>\n",
       "      <td>4.168960</td>\n",
       "      <td>4.40352</td>\n",
       "      <td>4.296490</td>\n",
       "      <td>0.0</td>\n",
       "      <td>7.402092e+07</td>\n",
       "    </tr>\n",
       "    <tr>\n",
       "      <th>3</th>\n",
       "      <td>2</td>\n",
       "      <td>Bitcoin</td>\n",
       "      <td>BTC</td>\n",
       "      <td>2013-04-30 23:59:59</td>\n",
       "      <td>146.929993</td>\n",
       "      <td>134.050003</td>\n",
       "      <td>144.00000</td>\n",
       "      <td>139.000000</td>\n",
       "      <td>0.0</td>\n",
       "      <td>1.542813e+09</td>\n",
       "    </tr>\n",
       "    <tr>\n",
       "      <th>4</th>\n",
       "      <td>3</td>\n",
       "      <td>Litecoin</td>\n",
       "      <td>LTC</td>\n",
       "      <td>2013-05-01 23:59:59</td>\n",
       "      <td>4.356860</td>\n",
       "      <td>3.520290</td>\n",
       "      <td>4.28954</td>\n",
       "      <td>3.801010</td>\n",
       "      <td>0.0</td>\n",
       "      <td>6.560460e+07</td>\n",
       "    </tr>\n",
       "  </tbody>\n",
       "</table>\n",
       "</div>"
      ],
      "text/plain": [
       "   SNo      Name Symbol                 Date        High         Low  \\\n",
       "0    1   Bitcoin    BTC  2013-04-29 23:59:59  147.488007  134.000000   \n",
       "1    1  Litecoin    LTC  2013-04-29 23:59:59    4.573600    4.225640   \n",
       "2    2  Litecoin    LTC  2013-04-30 23:59:59    4.572380    4.168960   \n",
       "3    2   Bitcoin    BTC  2013-04-30 23:59:59  146.929993  134.050003   \n",
       "4    3  Litecoin    LTC  2013-05-01 23:59:59    4.356860    3.520290   \n",
       "\n",
       "        Open       Close  Volume     Marketcap  \n",
       "0  134.44400  144.539993     0.0  1.603769e+09  \n",
       "1    4.36676    4.383900     0.0  7.538896e+07  \n",
       "2    4.40352    4.296490     0.0  7.402092e+07  \n",
       "3  144.00000  139.000000     0.0  1.542813e+09  \n",
       "4    4.28954    3.801010     0.0  6.560460e+07  "
      ]
     },
     "execution_count": 4,
     "metadata": {},
     "output_type": "execute_result"
    }
   ],
   "source": [
    "data.head()"
   ]
  },
  {
   "cell_type": "code",
   "execution_count": 5,
   "metadata": {},
   "outputs": [],
   "source": [
    "import numpy as np\n",
    "import matplotlib.pyplot as plt \n",
    "import seaborn as sns\n",
    "import warnings\n",
    "warnings.filterwarnings('ignore')"
   ]
  },
  {
   "cell_type": "code",
   "execution_count": 6,
   "metadata": {},
   "outputs": [
    {
     "data": {
      "text/html": [
       "<div>\n",
       "<style scoped>\n",
       "    .dataframe tbody tr th:only-of-type {\n",
       "        vertical-align: middle;\n",
       "    }\n",
       "\n",
       "    .dataframe tbody tr th {\n",
       "        vertical-align: top;\n",
       "    }\n",
       "\n",
       "    .dataframe thead th {\n",
       "        text-align: right;\n",
       "    }\n",
       "</style>\n",
       "<table border=\"1\" class=\"dataframe\">\n",
       "  <thead>\n",
       "    <tr style=\"text-align: right;\">\n",
       "      <th></th>\n",
       "      <th>SNo</th>\n",
       "      <th>Name</th>\n",
       "      <th>Symbol</th>\n",
       "      <th>Date</th>\n",
       "      <th>High</th>\n",
       "      <th>Low</th>\n",
       "      <th>Open</th>\n",
       "      <th>Close</th>\n",
       "      <th>Volume</th>\n",
       "      <th>Marketcap</th>\n",
       "    </tr>\n",
       "  </thead>\n",
       "  <tbody>\n",
       "    <tr>\n",
       "      <th>37077</th>\n",
       "      <td>1385</td>\n",
       "      <td>Chainlink</td>\n",
       "      <td>LINK</td>\n",
       "      <td>2021-07-06 23:59:59</td>\n",
       "      <td>20.240997</td>\n",
       "      <td>18.351877</td>\n",
       "      <td>18.351877</td>\n",
       "      <td>20.080466</td>\n",
       "      <td>1.156986e+09</td>\n",
       "      <td>8.775356e+09</td>\n",
       "    </tr>\n",
       "    <tr>\n",
       "      <th>37078</th>\n",
       "      <td>845</td>\n",
       "      <td>Cosmos</td>\n",
       "      <td>ATOM</td>\n",
       "      <td>2021-07-06 23:59:59</td>\n",
       "      <td>14.020420</td>\n",
       "      <td>12.823983</td>\n",
       "      <td>13.558099</td>\n",
       "      <td>13.159371</td>\n",
       "      <td>2.537822e+08</td>\n",
       "      <td>2.865093e+09</td>\n",
       "    </tr>\n",
       "    <tr>\n",
       "      <th>37079</th>\n",
       "      <td>1484</td>\n",
       "      <td>IOTA</td>\n",
       "      <td>MIOTA</td>\n",
       "      <td>2021-07-06 23:59:59</td>\n",
       "      <td>0.882165</td>\n",
       "      <td>0.820371</td>\n",
       "      <td>0.820371</td>\n",
       "      <td>0.851735</td>\n",
       "      <td>3.866387e+07</td>\n",
       "      <td>2.367423e+09</td>\n",
       "    </tr>\n",
       "    <tr>\n",
       "      <th>37080</th>\n",
       "      <td>1466</td>\n",
       "      <td>EOS</td>\n",
       "      <td>EOS</td>\n",
       "      <td>2021-07-06 23:59:59</td>\n",
       "      <td>4.004299</td>\n",
       "      <td>3.797596</td>\n",
       "      <td>3.814236</td>\n",
       "      <td>3.882325</td>\n",
       "      <td>6.967875e+08</td>\n",
       "      <td>3.707457e+09</td>\n",
       "    </tr>\n",
       "    <tr>\n",
       "      <th>37081</th>\n",
       "      <td>2893</td>\n",
       "      <td>XRP</td>\n",
       "      <td>XRP</td>\n",
       "      <td>2021-07-06 23:59:59</td>\n",
       "      <td>0.679923</td>\n",
       "      <td>0.652676</td>\n",
       "      <td>0.653055</td>\n",
       "      <td>0.665402</td>\n",
       "      <td>1.938959e+09</td>\n",
       "      <td>3.072284e+10</td>\n",
       "    </tr>\n",
       "  </tbody>\n",
       "</table>\n",
       "</div>"
      ],
      "text/plain": [
       "        SNo       Name Symbol                 Date       High        Low  \\\n",
       "37077  1385  Chainlink   LINK  2021-07-06 23:59:59  20.240997  18.351877   \n",
       "37078   845     Cosmos   ATOM  2021-07-06 23:59:59  14.020420  12.823983   \n",
       "37079  1484       IOTA  MIOTA  2021-07-06 23:59:59   0.882165   0.820371   \n",
       "37080  1466        EOS    EOS  2021-07-06 23:59:59   4.004299   3.797596   \n",
       "37081  2893        XRP    XRP  2021-07-06 23:59:59   0.679923   0.652676   \n",
       "\n",
       "            Open      Close        Volume     Marketcap  \n",
       "37077  18.351877  20.080466  1.156986e+09  8.775356e+09  \n",
       "37078  13.558099  13.159371  2.537822e+08  2.865093e+09  \n",
       "37079   0.820371   0.851735  3.866387e+07  2.367423e+09  \n",
       "37080   3.814236   3.882325  6.967875e+08  3.707457e+09  \n",
       "37081   0.653055   0.665402  1.938959e+09  3.072284e+10  "
      ]
     },
     "execution_count": 6,
     "metadata": {},
     "output_type": "execute_result"
    }
   ],
   "source": [
    "data.tail()"
   ]
  },
  {
   "cell_type": "code",
   "execution_count": 7,
   "metadata": {},
   "outputs": [
    {
     "name": "stdout",
     "output_type": "stream",
     "text": [
      "<class 'pandas.core.frame.DataFrame'>\n",
      "RangeIndex: 37082 entries, 0 to 37081\n",
      "Data columns (total 10 columns):\n",
      " #   Column     Non-Null Count  Dtype  \n",
      "---  ------     --------------  -----  \n",
      " 0   SNo        37082 non-null  int64  \n",
      " 1   Name       37082 non-null  object \n",
      " 2   Symbol     37082 non-null  object \n",
      " 3   Date       37082 non-null  object \n",
      " 4   High       37082 non-null  float64\n",
      " 5   Low        37082 non-null  float64\n",
      " 6   Open       37082 non-null  float64\n",
      " 7   Close      37082 non-null  float64\n",
      " 8   Volume     37082 non-null  float64\n",
      " 9   Marketcap  37082 non-null  float64\n",
      "dtypes: float64(6), int64(1), object(3)\n",
      "memory usage: 2.8+ MB\n"
     ]
    }
   ],
   "source": [
    "data.info()"
   ]
  },
  {
   "cell_type": "code",
   "execution_count": 8,
   "metadata": {},
   "outputs": [
    {
     "data": {
      "text/plain": [
       "SNo           2991\n",
       "Name            23\n",
       "Symbol          23\n",
       "Date          2991\n",
       "High         36283\n",
       "Low          36333\n",
       "Open         36290\n",
       "Close        36284\n",
       "Volume       36393\n",
       "Marketcap    36121\n",
       "dtype: int64"
      ]
     },
     "execution_count": 8,
     "metadata": {},
     "output_type": "execute_result"
    }
   ],
   "source": [
    "data.nunique() #number of unique data"
   ]
  },
  {
   "cell_type": "code",
   "execution_count": 9,
   "metadata": {},
   "outputs": [
    {
     "data": {
      "text/plain": [
       "SNo          0\n",
       "Name         0\n",
       "Symbol       0\n",
       "Date         0\n",
       "High         0\n",
       "Low          0\n",
       "Open         0\n",
       "Close        0\n",
       "Volume       0\n",
       "Marketcap    0\n",
       "dtype: int64"
      ]
     },
     "execution_count": 9,
     "metadata": {},
     "output_type": "execute_result"
    }
   ],
   "source": [
    "data.isnull().sum() # as all are 0 implies no data is missing"
   ]
  },
  {
   "cell_type": "code",
   "execution_count": 10,
   "metadata": {},
   "outputs": [
    {
     "data": {
      "text/html": [
       "<div>\n",
       "<style scoped>\n",
       "    .dataframe tbody tr th:only-of-type {\n",
       "        vertical-align: middle;\n",
       "    }\n",
       "\n",
       "    .dataframe tbody tr th {\n",
       "        vertical-align: top;\n",
       "    }\n",
       "\n",
       "    .dataframe thead th {\n",
       "        text-align: right;\n",
       "    }\n",
       "</style>\n",
       "<table border=\"1\" class=\"dataframe\">\n",
       "  <thead>\n",
       "    <tr style=\"text-align: right;\">\n",
       "      <th></th>\n",
       "      <th>Name</th>\n",
       "      <th>Symbol</th>\n",
       "      <th>Date</th>\n",
       "      <th>High</th>\n",
       "      <th>Low</th>\n",
       "      <th>Open</th>\n",
       "      <th>Close</th>\n",
       "      <th>Volume</th>\n",
       "      <th>Marketcap</th>\n",
       "    </tr>\n",
       "  </thead>\n",
       "  <tbody>\n",
       "    <tr>\n",
       "      <th>0</th>\n",
       "      <td>Bitcoin</td>\n",
       "      <td>BTC</td>\n",
       "      <td>2013-04-29 23:59:59</td>\n",
       "      <td>147.488007</td>\n",
       "      <td>134.000000</td>\n",
       "      <td>134.44400</td>\n",
       "      <td>144.539993</td>\n",
       "      <td>0.0</td>\n",
       "      <td>1.603769e+09</td>\n",
       "    </tr>\n",
       "    <tr>\n",
       "      <th>1</th>\n",
       "      <td>Litecoin</td>\n",
       "      <td>LTC</td>\n",
       "      <td>2013-04-29 23:59:59</td>\n",
       "      <td>4.573600</td>\n",
       "      <td>4.225640</td>\n",
       "      <td>4.36676</td>\n",
       "      <td>4.383900</td>\n",
       "      <td>0.0</td>\n",
       "      <td>7.538896e+07</td>\n",
       "    </tr>\n",
       "    <tr>\n",
       "      <th>2</th>\n",
       "      <td>Litecoin</td>\n",
       "      <td>LTC</td>\n",
       "      <td>2013-04-30 23:59:59</td>\n",
       "      <td>4.572380</td>\n",
       "      <td>4.168960</td>\n",
       "      <td>4.40352</td>\n",
       "      <td>4.296490</td>\n",
       "      <td>0.0</td>\n",
       "      <td>7.402092e+07</td>\n",
       "    </tr>\n",
       "    <tr>\n",
       "      <th>3</th>\n",
       "      <td>Bitcoin</td>\n",
       "      <td>BTC</td>\n",
       "      <td>2013-04-30 23:59:59</td>\n",
       "      <td>146.929993</td>\n",
       "      <td>134.050003</td>\n",
       "      <td>144.00000</td>\n",
       "      <td>139.000000</td>\n",
       "      <td>0.0</td>\n",
       "      <td>1.542813e+09</td>\n",
       "    </tr>\n",
       "    <tr>\n",
       "      <th>4</th>\n",
       "      <td>Litecoin</td>\n",
       "      <td>LTC</td>\n",
       "      <td>2013-05-01 23:59:59</td>\n",
       "      <td>4.356860</td>\n",
       "      <td>3.520290</td>\n",
       "      <td>4.28954</td>\n",
       "      <td>3.801010</td>\n",
       "      <td>0.0</td>\n",
       "      <td>6.560460e+07</td>\n",
       "    </tr>\n",
       "  </tbody>\n",
       "</table>\n",
       "</div>"
      ],
      "text/plain": [
       "       Name Symbol                 Date        High         Low       Open  \\\n",
       "0   Bitcoin    BTC  2013-04-29 23:59:59  147.488007  134.000000  134.44400   \n",
       "1  Litecoin    LTC  2013-04-29 23:59:59    4.573600    4.225640    4.36676   \n",
       "2  Litecoin    LTC  2013-04-30 23:59:59    4.572380    4.168960    4.40352   \n",
       "3   Bitcoin    BTC  2013-04-30 23:59:59  146.929993  134.050003  144.00000   \n",
       "4  Litecoin    LTC  2013-05-01 23:59:59    4.356860    3.520290    4.28954   \n",
       "\n",
       "        Close  Volume     Marketcap  \n",
       "0  144.539993     0.0  1.603769e+09  \n",
       "1    4.383900     0.0  7.538896e+07  \n",
       "2    4.296490     0.0  7.402092e+07  \n",
       "3  139.000000     0.0  1.542813e+09  \n",
       "4    3.801010     0.0  6.560460e+07  "
      ]
     },
     "execution_count": 10,
     "metadata": {},
     "output_type": "execute_result"
    }
   ],
   "source": [
    "#Dropping SNo\n",
    "data = data.drop(['SNo'],axis=1)\n",
    "data.head()"
   ]
  },
  {
   "cell_type": "code",
   "execution_count": 11,
   "metadata": {},
   "outputs": [
    {
     "data": {
      "text/plain": [
       "'2013-04-29 23:59:59'"
      ]
     },
     "execution_count": 11,
     "metadata": {},
     "output_type": "execute_result"
    }
   ],
   "source": [
    "data['Date'].loc[0]"
   ]
  },
  {
   "cell_type": "code",
   "execution_count": 12,
   "metadata": {},
   "outputs": [
    {
     "data": {
      "text/html": [
       "<div>\n",
       "<style scoped>\n",
       "    .dataframe tbody tr th:only-of-type {\n",
       "        vertical-align: middle;\n",
       "    }\n",
       "\n",
       "    .dataframe tbody tr th {\n",
       "        vertical-align: top;\n",
       "    }\n",
       "\n",
       "    .dataframe thead th {\n",
       "        text-align: right;\n",
       "    }\n",
       "</style>\n",
       "<table border=\"1\" class=\"dataframe\">\n",
       "  <thead>\n",
       "    <tr style=\"text-align: right;\">\n",
       "      <th></th>\n",
       "      <th>Name</th>\n",
       "      <th>Symbol</th>\n",
       "      <th>Date</th>\n",
       "      <th>High</th>\n",
       "      <th>Low</th>\n",
       "      <th>Open</th>\n",
       "      <th>Close</th>\n",
       "      <th>Volume</th>\n",
       "      <th>Marketcap</th>\n",
       "    </tr>\n",
       "  </thead>\n",
       "  <tbody>\n",
       "    <tr>\n",
       "      <th>0</th>\n",
       "      <td>Bitcoin</td>\n",
       "      <td>BTC</td>\n",
       "      <td>2013-04-29</td>\n",
       "      <td>147.488007</td>\n",
       "      <td>134.000000</td>\n",
       "      <td>134.44400</td>\n",
       "      <td>144.539993</td>\n",
       "      <td>0.0</td>\n",
       "      <td>1.603769e+09</td>\n",
       "    </tr>\n",
       "    <tr>\n",
       "      <th>1</th>\n",
       "      <td>Litecoin</td>\n",
       "      <td>LTC</td>\n",
       "      <td>2013-04-29</td>\n",
       "      <td>4.573600</td>\n",
       "      <td>4.225640</td>\n",
       "      <td>4.36676</td>\n",
       "      <td>4.383900</td>\n",
       "      <td>0.0</td>\n",
       "      <td>7.538896e+07</td>\n",
       "    </tr>\n",
       "    <tr>\n",
       "      <th>2</th>\n",
       "      <td>Litecoin</td>\n",
       "      <td>LTC</td>\n",
       "      <td>2013-04-30</td>\n",
       "      <td>4.572380</td>\n",
       "      <td>4.168960</td>\n",
       "      <td>4.40352</td>\n",
       "      <td>4.296490</td>\n",
       "      <td>0.0</td>\n",
       "      <td>7.402092e+07</td>\n",
       "    </tr>\n",
       "    <tr>\n",
       "      <th>3</th>\n",
       "      <td>Bitcoin</td>\n",
       "      <td>BTC</td>\n",
       "      <td>2013-04-30</td>\n",
       "      <td>146.929993</td>\n",
       "      <td>134.050003</td>\n",
       "      <td>144.00000</td>\n",
       "      <td>139.000000</td>\n",
       "      <td>0.0</td>\n",
       "      <td>1.542813e+09</td>\n",
       "    </tr>\n",
       "    <tr>\n",
       "      <th>4</th>\n",
       "      <td>Litecoin</td>\n",
       "      <td>LTC</td>\n",
       "      <td>2013-05-01</td>\n",
       "      <td>4.356860</td>\n",
       "      <td>3.520290</td>\n",
       "      <td>4.28954</td>\n",
       "      <td>3.801010</td>\n",
       "      <td>0.0</td>\n",
       "      <td>6.560460e+07</td>\n",
       "    </tr>\n",
       "  </tbody>\n",
       "</table>\n",
       "</div>"
      ],
      "text/plain": [
       "       Name Symbol        Date        High         Low       Open       Close  \\\n",
       "0   Bitcoin    BTC  2013-04-29  147.488007  134.000000  134.44400  144.539993   \n",
       "1  Litecoin    LTC  2013-04-29    4.573600    4.225640    4.36676    4.383900   \n",
       "2  Litecoin    LTC  2013-04-30    4.572380    4.168960    4.40352    4.296490   \n",
       "3   Bitcoin    BTC  2013-04-30  146.929993  134.050003  144.00000  139.000000   \n",
       "4  Litecoin    LTC  2013-05-01    4.356860    3.520290    4.28954    3.801010   \n",
       "\n",
       "   Volume     Marketcap  \n",
       "0     0.0  1.603769e+09  \n",
       "1     0.0  7.538896e+07  \n",
       "2     0.0  7.402092e+07  \n",
       "3     0.0  1.542813e+09  \n",
       "4     0.0  6.560460e+07  "
      ]
     },
     "execution_count": 12,
     "metadata": {},
     "output_type": "execute_result"
    }
   ],
   "source": [
    "data['Date']= data['Date'].str.split().str.get(0)\n",
    "data.head()"
   ]
  },
  {
   "cell_type": "code",
   "execution_count": 13,
   "metadata": {},
   "outputs": [
    {
     "name": "stdout",
     "output_type": "stream",
     "text": [
      "36283\n"
     ]
    }
   ],
   "source": [
    "print(data.High.nunique())"
   ]
  },
  {
   "cell_type": "code",
   "execution_count": 14,
   "metadata": {},
   "outputs": [
    {
     "data": {
      "text/html": [
       "<div>\n",
       "<style scoped>\n",
       "    .dataframe tbody tr th:only-of-type {\n",
       "        vertical-align: middle;\n",
       "    }\n",
       "\n",
       "    .dataframe tbody tr th {\n",
       "        vertical-align: top;\n",
       "    }\n",
       "\n",
       "    .dataframe thead th {\n",
       "        text-align: right;\n",
       "    }\n",
       "</style>\n",
       "<table border=\"1\" class=\"dataframe\">\n",
       "  <thead>\n",
       "    <tr style=\"text-align: right;\">\n",
       "      <th></th>\n",
       "      <th>count</th>\n",
       "      <th>mean</th>\n",
       "      <th>std</th>\n",
       "      <th>min</th>\n",
       "      <th>25%</th>\n",
       "      <th>50%</th>\n",
       "      <th>75%</th>\n",
       "      <th>max</th>\n",
       "    </tr>\n",
       "  </thead>\n",
       "  <tbody>\n",
       "    <tr>\n",
       "      <th>High</th>\n",
       "      <td>2991.0</td>\n",
       "      <td>6.893326e+03</td>\n",
       "      <td>1.164283e+04</td>\n",
       "      <td>7.456110e+01</td>\n",
       "      <td>4.361790e+02</td>\n",
       "      <td>2.387610e+03</td>\n",
       "      <td>8.733927e+03</td>\n",
       "      <td>6.486310e+04</td>\n",
       "    </tr>\n",
       "    <tr>\n",
       "      <th>Low</th>\n",
       "      <td>2991.0</td>\n",
       "      <td>6.486010e+03</td>\n",
       "      <td>1.086903e+04</td>\n",
       "      <td>6.552600e+01</td>\n",
       "      <td>4.228795e+02</td>\n",
       "      <td>2.178500e+03</td>\n",
       "      <td>8.289800e+03</td>\n",
       "      <td>6.220896e+04</td>\n",
       "    </tr>\n",
       "    <tr>\n",
       "      <th>Open</th>\n",
       "      <td>2991.0</td>\n",
       "      <td>6.700146e+03</td>\n",
       "      <td>1.128804e+04</td>\n",
       "      <td>6.850500e+01</td>\n",
       "      <td>4.304455e+02</td>\n",
       "      <td>2.269890e+03</td>\n",
       "      <td>8.569656e+03</td>\n",
       "      <td>6.352375e+04</td>\n",
       "    </tr>\n",
       "    <tr>\n",
       "      <th>Close</th>\n",
       "      <td>2991.0</td>\n",
       "      <td>6.711290e+03</td>\n",
       "      <td>1.129814e+04</td>\n",
       "      <td>6.843100e+01</td>\n",
       "      <td>4.305695e+02</td>\n",
       "      <td>2.286410e+03</td>\n",
       "      <td>8.576239e+03</td>\n",
       "      <td>6.350346e+04</td>\n",
       "    </tr>\n",
       "    <tr>\n",
       "      <th>Volume</th>\n",
       "      <td>2991.0</td>\n",
       "      <td>1.090633e+10</td>\n",
       "      <td>1.888895e+10</td>\n",
       "      <td>0.000000e+00</td>\n",
       "      <td>3.036725e+07</td>\n",
       "      <td>9.460360e+08</td>\n",
       "      <td>1.592015e+10</td>\n",
       "      <td>3.509679e+11</td>\n",
       "    </tr>\n",
       "    <tr>\n",
       "      <th>Marketcap</th>\n",
       "      <td>2991.0</td>\n",
       "      <td>1.208761e+11</td>\n",
       "      <td>2.109438e+11</td>\n",
       "      <td>7.784112e+08</td>\n",
       "      <td>6.305579e+09</td>\n",
       "      <td>3.741503e+10</td>\n",
       "      <td>1.499957e+11</td>\n",
       "      <td>1.186364e+12</td>\n",
       "    </tr>\n",
       "  </tbody>\n",
       "</table>\n",
       "</div>"
      ],
      "text/plain": [
       "            count          mean           std           min           25%  \\\n",
       "High       2991.0  6.893326e+03  1.164283e+04  7.456110e+01  4.361790e+02   \n",
       "Low        2991.0  6.486010e+03  1.086903e+04  6.552600e+01  4.228795e+02   \n",
       "Open       2991.0  6.700146e+03  1.128804e+04  6.850500e+01  4.304455e+02   \n",
       "Close      2991.0  6.711290e+03  1.129814e+04  6.843100e+01  4.305695e+02   \n",
       "Volume     2991.0  1.090633e+10  1.888895e+10  0.000000e+00  3.036725e+07   \n",
       "Marketcap  2991.0  1.208761e+11  2.109438e+11  7.784112e+08  6.305579e+09   \n",
       "\n",
       "                    50%           75%           max  \n",
       "High       2.387610e+03  8.733927e+03  6.486310e+04  \n",
       "Low        2.178500e+03  8.289800e+03  6.220896e+04  \n",
       "Open       2.269890e+03  8.569656e+03  6.352375e+04  \n",
       "Close      2.286410e+03  8.576239e+03  6.350346e+04  \n",
       "Volume     9.460360e+08  1.592015e+10  3.509679e+11  \n",
       "Marketcap  3.741503e+10  1.499957e+11  1.186364e+12  "
      ]
     },
     "execution_count": 14,
     "metadata": {},
     "output_type": "execute_result"
    }
   ],
   "source": [
    "#Descriptive Analysis\n",
    "#If a user asks for the statistics of a particular bitcoin we get the required output\n",
    "data[data['Name']=='Bitcoin'].describe().T"
   ]
  },
  {
   "cell_type": "code",
   "execution_count": 15,
   "metadata": {},
   "outputs": [],
   "source": [
    "#Converting my Date String to a datetime stamp\n",
    "import datetime\n",
    "data['Date'] = pd.to_datetime(data['Date'])"
   ]
  },
  {
   "cell_type": "code",
   "execution_count": 16,
   "metadata": {},
   "outputs": [
    {
     "data": {
      "text/plain": [
       "['bitcoin',\n",
       " 'litecoin',\n",
       " 'xrp',\n",
       " 'dogecoin',\n",
       " 'monero',\n",
       " 'stellar',\n",
       " 'tether',\n",
       " 'nem',\n",
       " 'ethereum',\n",
       " 'iota',\n",
       " 'eos',\n",
       " 'binance coin',\n",
       " 'tron',\n",
       " 'chainlink',\n",
       " 'cardano',\n",
       " 'usd coin',\n",
       " 'crypto.com coin',\n",
       " 'wrapped bitcoin',\n",
       " 'cosmos',\n",
       " 'solana',\n",
       " 'polkadot',\n",
       " 'uniswap',\n",
       " 'aave']"
      ]
     },
     "execution_count": 16,
     "metadata": {},
     "output_type": "execute_result"
    }
   ],
   "source": [
    "cryptocurrencies = [] # A list having all the cryptocurrencies in it \n",
    "cryptocurrencies.extend(i.lower() for i in data['Name'] if i.lower() not in cryptocurrencies)\n",
    "cryptocurrencies"
   ]
  },
  {
   "cell_type": "code",
   "execution_count": 17,
   "metadata": {},
   "outputs": [],
   "source": [
    "#Function for plotting High v/s Date\n",
    "def highplot(data,name):\n",
    "    selected_data = data[data['Name'].str.lower()==name.lower()]\n",
    "    plt.figure(figsize=(10,6))\n",
    "    plt.plot(selected_data['Date'],selected_data['High'])\n",
    "    plt.title(f\"{name.capitalize()} Highs over Time\")\n",
    "    plt.xlabel('Date')\n",
    "    plt.ylabel('High')\n",
    "    plt.xticks(rotation=45)\n",
    "    plt.grid(False)\n",
    "    plt.tight_layout()\n",
    "    return plt"
   ]
  },
  {
   "cell_type": "code",
   "execution_count": 18,
   "metadata": {},
   "outputs": [
    {
     "data": {
      "image/png": "[encoded data removed]",
      "text/plain": [
       "<Figure size 1000x600 with 1 Axes>"
      ]
     },
     "metadata": {},
     "output_type": "display_data"
    }
   ],
   "source": [
    "#Now lets say the user asks give me the history of Bitcoin over 5 years\n",
    "import difflib\n",
    "import random\n",
    "user_input = input(\"Enter the Crypto Name:\")\n",
    "if user_input.lower() in cryptocurrencies:\n",
    "    plot = highplot(data,user_input)\n",
    "    plot.show\n",
    "else:\n",
    "    selected_name = difflib.get_close_matches(user_input,cryptocurrencies) #gets the closest input \n",
    "    if selected_name:\n",
    "        final_name = random.choice(selected_name)\n",
    "        print(\"Showing results for\",final_name)\n",
    "        highplot(data,final_name)\n",
    "    else: print(\"Please enter correct Cryptocurency Name.\")"
   ]
  },
  {
   "cell_type": "code",
   "execution_count": 19,
   "metadata": {},
   "outputs": [],
   "source": [
    "#Comparing the performance of different cryptocurrencies in terms of price changes\n",
    "#Need to perform Volatility Analysis\n",
    "data['Price Change'] = 0\n",
    "def volatility(data,name):\n",
    "    selected_data = data[data['Name'].str.lower()==name.lower()]\n",
    "    selected_data['Price Change'] = selected_data.groupby('Name')['Close'].diff()\n",
    "    volatility = selected_data.groupby('Name')['Price Change'].std()\n",
    "    #Alternate Formula wrt ATR\n",
    "    #crypto_data['ATR'] = ta.atr(high=crypto_data['High'], low=crypto_data['Low'], close=crypto_data['Close'])\n",
    "    #here volatility variable is a pandas series type. \n",
    "    return (volatility[0],name) #returning a tuple"
   ]
  },
  {
   "cell_type": "code",
   "execution_count": 20,
   "metadata": {},
   "outputs": [
    {
     "name": "stdout",
     "output_type": "stream",
     "text": [
      "(588.2311575595655, 'Bitcoin')\n"
     ]
    }
   ],
   "source": [
    "vol = volatility(data,'Bitcoin')\n",
    "print(vol)"
   ]
  },
  {
   "cell_type": "code",
   "execution_count": 21,
   "metadata": {},
   "outputs": [],
   "source": [
    "#Visualizing Volatility of all cryptos\n",
    "def volatility_visualize(data):\n",
    "    cryptocurrencies = [] # A list having all the cryptocurrencies in it \n",
    "    cryptocurrencies.extend(i for i in data['Name'] if i not in cryptocurrencies)\n",
    "    cryptocurrencies_lower =[]\n",
    "    cryptocurrencies_lower = [i.lower() for i in cryptocurrencies]\n",
    "    volatility_list = []\n",
    "    volatility_list = (volatility(data,i)[0] for i in cryptocurrencies_lower)\n",
    "    volatility_list = sorted(volatility_list)\n",
    "    # volatility_list = pd.DataFrame(volatility_list)\n",
    "    print(volatility_list)\n",
    "    plt.figure(figsize=(10, 6))\n",
    "    (plt.bar(list(volatility(data,i)[0]), list(volatility(data,i)[1])) for i in cryptocurrencies_lower)\n",
    "    plt.title('Volatility of Different Cryptocurrencies')\n",
    "    plt.xlabel('Cryptocurrency')\n",
    "    plt.ylabel('Volatility (Standard Deviation)')\n",
    "    plt.xticks(rotation=45)\n",
    "    plt.tight_layout()\n",
    "    return plt"
   ]
  },
  {
   "cell_type": "code",
   "execution_count": 22,
   "metadata": {},
   "outputs": [],
   "source": [
    "# #Plotting the voltilities\n",
    "# plot = volatility_visualize(data)\n",
    "# plot.show()"
   ]
  },
  {
   "cell_type": "code",
   "execution_count": 23,
   "metadata": {},
   "outputs": [
    {
     "data": {
      "text/html": [
       "<div>\n",
       "<style scoped>\n",
       "    .dataframe tbody tr th:only-of-type {\n",
       "        vertical-align: middle;\n",
       "    }\n",
       "\n",
       "    .dataframe tbody tr th {\n",
       "        vertical-align: top;\n",
       "    }\n",
       "\n",
       "    .dataframe thead th {\n",
       "        text-align: right;\n",
       "    }\n",
       "</style>\n",
       "<table border=\"1\" class=\"dataframe\">\n",
       "  <thead>\n",
       "    <tr style=\"text-align: right;\">\n",
       "      <th></th>\n",
       "      <th>Name</th>\n",
       "      <th>Symbol</th>\n",
       "      <th>Date</th>\n",
       "      <th>High</th>\n",
       "      <th>Low</th>\n",
       "      <th>Open</th>\n",
       "      <th>Close</th>\n",
       "      <th>Volume</th>\n",
       "      <th>Marketcap</th>\n",
       "      <th>Price Change</th>\n",
       "    </tr>\n",
       "  </thead>\n",
       "  <tbody>\n",
       "    <tr>\n",
       "      <th>0</th>\n",
       "      <td>Bitcoin</td>\n",
       "      <td>BTC</td>\n",
       "      <td>2013-04-29</td>\n",
       "      <td>147.488007</td>\n",
       "      <td>134.000000</td>\n",
       "      <td>134.44400</td>\n",
       "      <td>144.539993</td>\n",
       "      <td>0.0</td>\n",
       "      <td>1.603769e+09</td>\n",
       "      <td>0</td>\n",
       "    </tr>\n",
       "    <tr>\n",
       "      <th>1</th>\n",
       "      <td>Litecoin</td>\n",
       "      <td>LTC</td>\n",
       "      <td>2013-04-29</td>\n",
       "      <td>4.573600</td>\n",
       "      <td>4.225640</td>\n",
       "      <td>4.36676</td>\n",
       "      <td>4.383900</td>\n",
       "      <td>0.0</td>\n",
       "      <td>7.538896e+07</td>\n",
       "      <td>0</td>\n",
       "    </tr>\n",
       "    <tr>\n",
       "      <th>2</th>\n",
       "      <td>Litecoin</td>\n",
       "      <td>LTC</td>\n",
       "      <td>2013-04-30</td>\n",
       "      <td>4.572380</td>\n",
       "      <td>4.168960</td>\n",
       "      <td>4.40352</td>\n",
       "      <td>4.296490</td>\n",
       "      <td>0.0</td>\n",
       "      <td>7.402092e+07</td>\n",
       "      <td>0</td>\n",
       "    </tr>\n",
       "    <tr>\n",
       "      <th>3</th>\n",
       "      <td>Bitcoin</td>\n",
       "      <td>BTC</td>\n",
       "      <td>2013-04-30</td>\n",
       "      <td>146.929993</td>\n",
       "      <td>134.050003</td>\n",
       "      <td>144.00000</td>\n",
       "      <td>139.000000</td>\n",
       "      <td>0.0</td>\n",
       "      <td>1.542813e+09</td>\n",
       "      <td>0</td>\n",
       "    </tr>\n",
       "    <tr>\n",
       "      <th>4</th>\n",
       "      <td>Litecoin</td>\n",
       "      <td>LTC</td>\n",
       "      <td>2013-05-01</td>\n",
       "      <td>4.356860</td>\n",
       "      <td>3.520290</td>\n",
       "      <td>4.28954</td>\n",
       "      <td>3.801010</td>\n",
       "      <td>0.0</td>\n",
       "      <td>6.560460e+07</td>\n",
       "      <td>0</td>\n",
       "    </tr>\n",
       "  </tbody>\n",
       "</table>\n",
       "</div>"
      ],
      "text/plain": [
       "       Name Symbol       Date        High         Low       Open       Close  \\\n",
       "0   Bitcoin    BTC 2013-04-29  147.488007  134.000000  134.44400  144.539993   \n",
       "1  Litecoin    LTC 2013-04-29    4.573600    4.225640    4.36676    4.383900   \n",
       "2  Litecoin    LTC 2013-04-30    4.572380    4.168960    4.40352    4.296490   \n",
       "3   Bitcoin    BTC 2013-04-30  146.929993  134.050003  144.00000  139.000000   \n",
       "4  Litecoin    LTC 2013-05-01    4.356860    3.520290    4.28954    3.801010   \n",
       "\n",
       "   Volume     Marketcap  Price Change  \n",
       "0     0.0  1.603769e+09             0  \n",
       "1     0.0  7.538896e+07             0  \n",
       "2     0.0  7.402092e+07             0  \n",
       "3     0.0  1.542813e+09             0  \n",
       "4     0.0  6.560460e+07             0  "
      ]
     },
     "execution_count": 23,
     "metadata": {},
     "output_type": "execute_result"
    }
   ],
   "source": [
    "#Regression Analysis\n",
    "data.head()"
   ]
  },
  {
   "cell_type": "code",
   "execution_count": 24,
   "metadata": {},
   "outputs": [
    {
     "data": {
      "text/html": [
       "<div>\n",
       "<style scoped>\n",
       "    .dataframe tbody tr th:only-of-type {\n",
       "        vertical-align: middle;\n",
       "    }\n",
       "\n",
       "    .dataframe tbody tr th {\n",
       "        vertical-align: top;\n",
       "    }\n",
       "\n",
       "    .dataframe thead th {\n",
       "        text-align: right;\n",
       "    }\n",
       "</style>\n",
       "<table border=\"1\" class=\"dataframe\">\n",
       "  <thead>\n",
       "    <tr style=\"text-align: right;\">\n",
       "      <th></th>\n",
       "      <th>Name</th>\n",
       "      <th>Symbol</th>\n",
       "      <th>Date</th>\n",
       "      <th>High</th>\n",
       "      <th>Low</th>\n",
       "      <th>Open</th>\n",
       "      <th>Close</th>\n",
       "      <th>Volume</th>\n",
       "      <th>Marketcap</th>\n",
       "      <th>Price Change</th>\n",
       "      <th>Days</th>\n",
       "    </tr>\n",
       "  </thead>\n",
       "  <tbody>\n",
       "    <tr>\n",
       "      <th>0</th>\n",
       "      <td>Bitcoin</td>\n",
       "      <td>BTC</td>\n",
       "      <td>2013-04-29</td>\n",
       "      <td>147.488007</td>\n",
       "      <td>134.000000</td>\n",
       "      <td>134.44400</td>\n",
       "      <td>144.539993</td>\n",
       "      <td>0.0</td>\n",
       "      <td>1.603769e+09</td>\n",
       "      <td>0</td>\n",
       "      <td>119.0</td>\n",
       "    </tr>\n",
       "    <tr>\n",
       "      <th>1</th>\n",
       "      <td>Litecoin</td>\n",
       "      <td>LTC</td>\n",
       "      <td>2013-04-29</td>\n",
       "      <td>4.573600</td>\n",
       "      <td>4.225640</td>\n",
       "      <td>4.36676</td>\n",
       "      <td>4.383900</td>\n",
       "      <td>0.0</td>\n",
       "      <td>7.538896e+07</td>\n",
       "      <td>0</td>\n",
       "      <td>119.0</td>\n",
       "    </tr>\n",
       "    <tr>\n",
       "      <th>2</th>\n",
       "      <td>Litecoin</td>\n",
       "      <td>LTC</td>\n",
       "      <td>2013-04-30</td>\n",
       "      <td>4.572380</td>\n",
       "      <td>4.168960</td>\n",
       "      <td>4.40352</td>\n",
       "      <td>4.296490</td>\n",
       "      <td>0.0</td>\n",
       "      <td>7.402092e+07</td>\n",
       "      <td>0</td>\n",
       "      <td>120.0</td>\n",
       "    </tr>\n",
       "    <tr>\n",
       "      <th>3</th>\n",
       "      <td>Bitcoin</td>\n",
       "      <td>BTC</td>\n",
       "      <td>2013-04-30</td>\n",
       "      <td>146.929993</td>\n",
       "      <td>134.050003</td>\n",
       "      <td>144.00000</td>\n",
       "      <td>139.000000</td>\n",
       "      <td>0.0</td>\n",
       "      <td>1.542813e+09</td>\n",
       "      <td>0</td>\n",
       "      <td>120.0</td>\n",
       "    </tr>\n",
       "    <tr>\n",
       "      <th>4</th>\n",
       "      <td>Litecoin</td>\n",
       "      <td>LTC</td>\n",
       "      <td>2013-05-01</td>\n",
       "      <td>4.356860</td>\n",
       "      <td>3.520290</td>\n",
       "      <td>4.28954</td>\n",
       "      <td>3.801010</td>\n",
       "      <td>0.0</td>\n",
       "      <td>6.560460e+07</td>\n",
       "      <td>0</td>\n",
       "      <td>121.0</td>\n",
       "    </tr>\n",
       "  </tbody>\n",
       "</table>\n",
       "</div>"
      ],
      "text/plain": [
       "       Name Symbol       Date        High         Low       Open       Close  \\\n",
       "0   Bitcoin    BTC 2013-04-29  147.488007  134.000000  134.44400  144.539993   \n",
       "1  Litecoin    LTC 2013-04-29    4.573600    4.225640    4.36676    4.383900   \n",
       "2  Litecoin    LTC 2013-04-30    4.572380    4.168960    4.40352    4.296490   \n",
       "3   Bitcoin    BTC 2013-04-30  146.929993  134.050003  144.00000  139.000000   \n",
       "4  Litecoin    LTC 2013-05-01    4.356860    3.520290    4.28954    3.801010   \n",
       "\n",
       "   Volume     Marketcap  Price Change   Days  \n",
       "0     0.0  1.603769e+09             0  119.0  \n",
       "1     0.0  7.538896e+07             0  119.0  \n",
       "2     0.0  7.402092e+07             0  120.0  \n",
       "3     0.0  1.542813e+09             0  120.0  \n",
       "4     0.0  6.560460e+07             0  121.0  "
      ]
     },
     "execution_count": 24,
     "metadata": {},
     "output_type": "execute_result"
    }
   ],
   "source": [
    "import datetime \n",
    "for i in range(0,37082):\n",
    "    given_date = str((data[\"Date\"][i])).split()[0]\n",
    "    date_obj = datetime.datetime.strptime(given_date, \"%Y-%m-%d\") \n",
    "    days = date_obj.timetuple().tm_yday\n",
    "    data.at[i, 'Days'] = days \n",
    "data.head()"
   ]
  },
  {
   "cell_type": "code",
   "execution_count": 25,
   "metadata": {},
   "outputs": [],
   "source": [
    "X = data.iloc[:,[0,3,4,6,7,8,9,10]].values\n",
    "Y = data.iloc[:,5].values"
   ]
  },
  {
   "cell_type": "code",
   "execution_count": 26,
   "metadata": {},
   "outputs": [
    {
     "data": {
      "text/plain": [
       "array([['Bitcoin', 147.48800659179688, 134.0, ..., 1603768864.5, 0,\n",
       "        119.0],\n",
       "       ['Litecoin', 4.573599815368652, 4.225639820098877, ...,\n",
       "        75388963.842, 0, 119.0],\n",
       "       ['Litecoin', 4.572380065917969, 4.168960094451904, ...,\n",
       "        74020917.9127, 0, 120.0],\n",
       "       ...,\n",
       "       ['IOTA', 0.88216504, 0.82037079, ..., 2367422541.11, 0, 187.0],\n",
       "       ['EOS', 4.00429917, 3.79759591, ..., 3707456939.76, 0, 187.0],\n",
       "       ['XRP', 0.67992344, 0.65267606, ..., 30722840710.51, 0, 187.0]],\n",
       "      dtype=object)"
      ]
     },
     "execution_count": 26,
     "metadata": {},
     "output_type": "execute_result"
    }
   ],
   "source": [
    "X"
   ]
  },
  {
   "cell_type": "code",
   "execution_count": 27,
   "metadata": {},
   "outputs": [
    {
     "data": {
      "text/plain": [
       "<37082x30 sparse matrix of type '<class 'numpy.float64'>'\n",
       "\twith 258603 stored elements in Compressed Sparse Row format>"
      ]
     },
     "execution_count": 27,
     "metadata": {},
     "output_type": "execute_result"
    }
   ],
   "source": [
    "from sklearn.compose import ColumnTransformer\n",
    "from sklearn.preprocessing import OneHotEncoder\n",
    "ct = ColumnTransformer(transformers=[('encoder', OneHotEncoder(), [0])], remainder='passthrough')\n",
    "X = ct.fit_transform(X)\n",
    "X"
   ]
  },
  {
   "cell_type": "code",
   "execution_count": 28,
   "metadata": {},
   "outputs": [],
   "source": [
    "from sklearn.model_selection import train_test_split\n",
    "X_train, X_test, Y_train, Y_test = train_test_split(X, Y, test_size = 0.2, random_state = 0)"
   ]
  },
  {
   "cell_type": "code",
   "execution_count": 29,
   "metadata": {},
   "outputs": [
    {
     "data": {
      "text/html": [
       "<style>#sk-container-id-1 {color: black;background-color: white;}#sk-container-id-1 pre{padding: 0;}#sk-container-id-1 div.sk-toggleable {background-color: white;}#sk-container-id-1 label.sk-toggleable__label {cursor: pointer;display: block;width: 100%;margin-bottom: 0;padding: 0.3em;box-sizing: border-box;text-align: center;}#sk-container-id-1 label.sk-toggleable__label-arrow:before {content: \"▸\";float: left;margin-right: 0.25em;color: #696969;}#sk-container-id-1 label.sk-toggleable__label-arrow:hover:before {color: black;}#sk-container-id-1 div.sk-estimator:hover label.sk-toggleable__label-arrow:before {color: black;}#sk-container-id-1 div.sk-toggleable__content {max-height: 0;max-width: 0;overflow: hidden;text-align: left;background-color: #f0f8ff;}#sk-container-id-1 div.sk-toggleable__content pre {margin: 0.2em;color: black;border-radius: 0.25em;background-color: #f0f8ff;}#sk-container-id-1 input.sk-toggleable__control:checked~div.sk-toggleable__content {max-height: 200px;max-width: 100%;overflow: auto;}#sk-container-id-1 input.sk-toggleable__control:checked~label.sk-toggleable__label-arrow:before {content: \"▾\";}#sk-container-id-1 div.sk-estimator input.sk-toggleable__control:checked~label.sk-toggleable__label {background-color: #d4ebff;}#sk-container-id-1 div.sk-label input.sk-toggleable__control:checked~label.sk-toggleable__label {background-color: #d4ebff;}#sk-container-id-1 input.sk-hidden--visually {border: 0;clip: rect(1px 1px 1px 1px);clip: rect(1px, 1px, 1px, 1px);height: 1px;margin: -1px;overflow: hidden;padding: 0;position: absolute;width: 1px;}#sk-container-id-1 div.sk-estimator {font-family: monospace;background-color: #f0f8ff;border: 1px dotted black;border-radius: 0.25em;box-sizing: border-box;margin-bottom: 0.5em;}#sk-container-id-1 div.sk-estimator:hover {background-color: #d4ebff;}#sk-container-id-1 div.sk-parallel-item::after {content: \"\";width: 100%;border-bottom: 1px solid gray;flex-grow: 1;}#sk-container-id-1 div.sk-label:hover label.sk-toggleable__label {background-color: #d4ebff;}#sk-container-id-1 div.sk-serial::before {content: \"\";position: absolute;border-left: 1px solid gray;box-sizing: border-box;top: 0;bottom: 0;left: 50%;z-index: 0;}#sk-container-id-1 div.sk-serial {display: flex;flex-direction: column;align-items: center;background-color: white;padding-right: 0.2em;padding-left: 0.2em;position: relative;}#sk-container-id-1 div.sk-item {position: relative;z-index: 1;}#sk-container-id-1 div.sk-parallel {display: flex;align-items: stretch;justify-content: center;background-color: white;position: relative;}#sk-container-id-1 div.sk-item::before, #sk-container-id-1 div.sk-parallel-item::before {content: \"\";position: absolute;border-left: 1px solid gray;box-sizing: border-box;top: 0;bottom: 0;left: 50%;z-index: -1;}#sk-container-id-1 div.sk-parallel-item {display: flex;flex-direction: column;z-index: 1;position: relative;background-color: white;}#sk-container-id-1 div.sk-parallel-item:first-child::after {align-self: flex-end;width: 50%;}#sk-container-id-1 div.sk-parallel-item:last-child::after {align-self: flex-start;width: 50%;}#sk-container-id-1 div.sk-parallel-item:only-child::after {width: 0;}#sk-container-id-1 div.sk-dashed-wrapped {border: 1px dashed gray;margin: 0 0.4em 0.5em 0.4em;box-sizing: border-box;padding-bottom: 0.4em;background-color: white;}#sk-container-id-1 div.sk-label label {font-family: monospace;font-weight: bold;display: inline-block;line-height: 1.2em;}#sk-container-id-1 div.sk-label-container {text-align: center;}#sk-container-id-1 div.sk-container {/* jupyter's `normalize.less` sets `[hidden] { display: none; }` but bootstrap.min.css set `[hidden] { display: none !important; }` so we also need the `!important` here to be able to override the default hidden behavior on the sphinx rendered scikit-learn.org. See: https://github.com/scikit-learn/scikit-learn/issues/21755 */display: inline-block !important;position: relative;}#sk-container-id-1 div.sk-text-repr-fallback {display: none;}</style><div id=\"sk-container-id-1\" class=\"sk-top-container\"><div class=\"sk-text-repr-fallback\"><pre>LinearRegression()</pre><b>In a Jupyter environment, please rerun this cell to show the HTML representation or trust the notebook. <br />On GitHub, the HTML representation is unable to render, please try loading this page with nbviewer.org.</b></div><div class=\"sk-container\" hidden><div class=\"sk-item\"><div class=\"sk-estimator sk-toggleable\"><input class=\"sk-toggleable__control sk-hidden--visually\" id=\"sk-estimator-id-1\" type=\"checkbox\" checked><label for=\"sk-estimator-id-1\" class=\"sk-toggleable__label sk-toggleable__label-arrow\">LinearRegression</label><div class=\"sk-toggleable__content\"><pre>LinearRegression()</pre></div></div></div></div></div>"
      ],
      "text/plain": [
       "LinearRegression()"
      ]
     },
     "execution_count": 29,
     "metadata": {},
     "output_type": "execute_result"
    }
   ],
   "source": [
    "from sklearn.linear_model import LinearRegression\n",
    "regressor = LinearRegression()\n",
    "regressor.fit(X_train,Y_train)"
   ]
  },
  {
   "cell_type": "code",
   "execution_count": 30,
   "metadata": {},
   "outputs": [
    {
     "name": "stdout",
     "output_type": "stream",
     "text": [
      "[[2.87e+02 2.58e+00]\n",
      " [5.70e+03 6.40e+03]\n",
      " [8.05e+02 3.81e+00]\n",
      " ...\n",
      " [3.39e+02 1.94e-02]\n",
      " [4.36e+02 1.62e-01]\n",
      " [2.75e+02 8.56e+03]]\n"
     ]
    }
   ],
   "source": [
    "y_pred = regressor.predict(X_test)\n",
    "np.set_printoptions(precision=2)\n",
    "print(np.concatenate((y_pred.reshape(len(y_pred),1), Y_test.reshape(len(Y_test),1)),1))"
   ]
  },
  {
   "cell_type": "code",
   "execution_count": 31,
   "metadata": {},
   "outputs": [
    {
     "data": {
      "text/html": [
       "<div>\n",
       "<style scoped>\n",
       "    .dataframe tbody tr th:only-of-type {\n",
       "        vertical-align: middle;\n",
       "    }\n",
       "\n",
       "    .dataframe tbody tr th {\n",
       "        vertical-align: top;\n",
       "    }\n",
       "\n",
       "    .dataframe thead th {\n",
       "        text-align: right;\n",
       "    }\n",
       "</style>\n",
       "<table border=\"1\" class=\"dataframe\">\n",
       "  <thead>\n",
       "    <tr style=\"text-align: right;\">\n",
       "      <th></th>\n",
       "      <th>Name</th>\n",
       "      <th>Symbol</th>\n",
       "      <th>Date</th>\n",
       "      <th>High</th>\n",
       "      <th>Low</th>\n",
       "      <th>Open</th>\n",
       "      <th>Close</th>\n",
       "      <th>Volume</th>\n",
       "      <th>Marketcap</th>\n",
       "      <th>Price Change</th>\n",
       "      <th>Days</th>\n",
       "    </tr>\n",
       "  </thead>\n",
       "  <tbody>\n",
       "    <tr>\n",
       "      <th>0</th>\n",
       "      <td>Bitcoin</td>\n",
       "      <td>BTC</td>\n",
       "      <td>2013-04-29</td>\n",
       "      <td>147.488007</td>\n",
       "      <td>134.000000</td>\n",
       "      <td>134.44400</td>\n",
       "      <td>144.539993</td>\n",
       "      <td>0.0</td>\n",
       "      <td>1.603769e+09</td>\n",
       "      <td>0</td>\n",
       "      <td>119.0</td>\n",
       "    </tr>\n",
       "    <tr>\n",
       "      <th>1</th>\n",
       "      <td>Litecoin</td>\n",
       "      <td>LTC</td>\n",
       "      <td>2013-04-29</td>\n",
       "      <td>4.573600</td>\n",
       "      <td>4.225640</td>\n",
       "      <td>4.36676</td>\n",
       "      <td>4.383900</td>\n",
       "      <td>0.0</td>\n",
       "      <td>7.538896e+07</td>\n",
       "      <td>0</td>\n",
       "      <td>119.0</td>\n",
       "    </tr>\n",
       "    <tr>\n",
       "      <th>2</th>\n",
       "      <td>Litecoin</td>\n",
       "      <td>LTC</td>\n",
       "      <td>2013-04-30</td>\n",
       "      <td>4.572380</td>\n",
       "      <td>4.168960</td>\n",
       "      <td>4.40352</td>\n",
       "      <td>4.296490</td>\n",
       "      <td>0.0</td>\n",
       "      <td>7.402092e+07</td>\n",
       "      <td>0</td>\n",
       "      <td>120.0</td>\n",
       "    </tr>\n",
       "    <tr>\n",
       "      <th>3</th>\n",
       "      <td>Bitcoin</td>\n",
       "      <td>BTC</td>\n",
       "      <td>2013-04-30</td>\n",
       "      <td>146.929993</td>\n",
       "      <td>134.050003</td>\n",
       "      <td>144.00000</td>\n",
       "      <td>139.000000</td>\n",
       "      <td>0.0</td>\n",
       "      <td>1.542813e+09</td>\n",
       "      <td>0</td>\n",
       "      <td>120.0</td>\n",
       "    </tr>\n",
       "    <tr>\n",
       "      <th>4</th>\n",
       "      <td>Litecoin</td>\n",
       "      <td>LTC</td>\n",
       "      <td>2013-05-01</td>\n",
       "      <td>4.356860</td>\n",
       "      <td>3.520290</td>\n",
       "      <td>4.28954</td>\n",
       "      <td>3.801010</td>\n",
       "      <td>0.0</td>\n",
       "      <td>6.560460e+07</td>\n",
       "      <td>0</td>\n",
       "      <td>121.0</td>\n",
       "    </tr>\n",
       "  </tbody>\n",
       "</table>\n",
       "</div>"
      ],
      "text/plain": [
       "       Name Symbol       Date        High         Low       Open       Close  \\\n",
       "0   Bitcoin    BTC 2013-04-29  147.488007  134.000000  134.44400  144.539993   \n",
       "1  Litecoin    LTC 2013-04-29    4.573600    4.225640    4.36676    4.383900   \n",
       "2  Litecoin    LTC 2013-04-30    4.572380    4.168960    4.40352    4.296490   \n",
       "3   Bitcoin    BTC 2013-04-30  146.929993  134.050003  144.00000  139.000000   \n",
       "4  Litecoin    LTC 2013-05-01    4.356860    3.520290    4.28954    3.801010   \n",
       "\n",
       "   Volume     Marketcap  Price Change   Days  \n",
       "0     0.0  1.603769e+09             0  119.0  \n",
       "1     0.0  7.538896e+07             0  119.0  \n",
       "2     0.0  7.402092e+07             0  120.0  \n",
       "3     0.0  1.542813e+09             0  120.0  \n",
       "4     0.0  6.560460e+07             0  121.0  "
      ]
     },
     "execution_count": 31,
     "metadata": {},
     "output_type": "execute_result"
    }
   ],
   "source": [
    "#Task : Compare the progress of two given crypto currencies and host them in backend.\n",
    "#Lets compare them on their closing prices \n",
    "data.head()"
   ]
  },
  {
   "cell_type": "code",
   "execution_count": 32,
   "metadata": {},
   "outputs": [],
   "source": [
    "cryp1 = data[data['Name']==\"Bitcoin\"]\n",
    "cryp2 = data[data['Name']==\"Litecoin\"]"
   ]
  },
  {
   "cell_type": "code",
   "execution_count": 33,
   "metadata": {},
   "outputs": [
    {
     "data": {
      "image/png": "[encoded data removed]",
      "text/plain": [
       "<Figure size 1000x600 with 1 Axes>"
      ]
     },
     "metadata": {},
     "output_type": "display_data"
    }
   ],
   "source": [
    "plt.figure(figsize=(10,6))\n",
    "plt.plot(cryp1['Date'],cryp1['Close'],label='Bitcoin (BTC)')\n",
    "plt.plot(cryp2['Date'],cryp2['Close'],label='Litecoin (LTC)')\n",
    "plt.xlabel('Date')\n",
    "plt.ylabel('Closing Price')\n",
    "plt.title('Comparison of Bitcoin and Litecoin Closing Prices')\n",
    "plt.legend()\n",
    "plt.xticks(rotation=45)\n",
    "plt.tight_layout()\n",
    "plt.show()"
   ]
  },
  {
   "cell_type": "code",
   "execution_count": 34,
   "metadata": {},
   "outputs": [],
   "source": [
    "def compare(name1,name2):\n",
    "    cryp1 = data[data['Name']==name1]\n",
    "    cryp2 = data[data['Name']==name2]\n",
    "    plt.figure(figsize=(10,6))\n",
    "    plt.plot(cryp1['Date'],cryp1['Close'],label=name1)\n",
    "    plt.plot(cryp2['Date'],cryp2['Close'],label=name2)\n",
    "    plt.xlabel('Date')\n",
    "    plt.ylabel('Closing Price')\n",
    "    plt.title(f'Comparison of {name1} and {name2} Closing Prices')\n",
    "    plt.legend()\n",
    "    plt.xticks(rotation=45)\n",
    "    plt.tight_layout()\n",
    "    return plt"
   ]
  },
  {
   "cell_type": "code",
   "execution_count": 35,
   "metadata": {},
   "outputs": [
    {
     "data": {
      "image/png": "[encoded data removed]",
      "text/plain": [
       "<Figure size 1000x600 with 1 Axes>"
      ]
     },
     "metadata": {},
     "output_type": "display_data"
    }
   ],
   "source": [
    "plot = compare('Litecoin','Monero')\n",
    "plot.show()"
   ]
  }
 ],
 "metadata": {
  "kernelspec": {
   "display_name": "Python 3",
   "language": "python",
   "name": "python3"
  },
  "language_info": {
   "codemirror_mode": {
    "name": "ipython",
    "version": 3
   },
   "file_extension": ".py",
   "mimetype": "text/x-python",
   "name": "python",
   "nbconvert_exporter": "python",
   "pygments_lexer": "ipython3",
   "version": "3.11.3"
  },
  "orig_nbformat": 4
 },
 "nbformat": 4,
 "nbformat_minor": 2
}
